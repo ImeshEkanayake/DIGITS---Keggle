{
 "cells": [
  {
   "cell_type": "code",
   "execution_count": 9,
   "metadata": {},
   "outputs": [],
   "source": [
    "import numpy as np\n",
    "import pandas as pd\n",
    "import tensorflow as tf\n",
    "import csv\n",
    "import matplotlib.pyplot as plt\n",
    "from scipy import signal\n",
    "import seaborn as sns\n",
    "import sklearn\n",
    "from sklearn.metrics import accuracy_score\n",
    "from sklearn.metrics import confusion_matrix\n",
    "from sklearn.model_selection import train_test_split"
   ]
  },
  {
   "cell_type": "code",
   "execution_count": 10,
   "metadata": {},
   "outputs": [],
   "source": [
    "#INPUT TRAING DATA\n",
    "data = pd.read_csv('train.csv') \n",
    "\n",
    "#INPUT TEST DATA\n",
    "test = pd.read_csv('test.csv') "
   ]
  },
  {
   "cell_type": "code",
   "execution_count": 11,
   "metadata": {},
   "outputs": [],
   "source": [
    "# Define Input and Output of the training set\n",
    "\n",
    "y_before=data[\"label\"]\n",
    "y=[]\n",
    "for i in y_before:\n",
    "    p=[0,0,0,0,0,0,0,0,0,0]\n",
    "    p[i]=1\n",
    "    y+=[p]\n",
    "y=np.array(y)\n",
    "x=data.drop([\"label\"],axis=1)\n"
   ]
  },
  {
   "cell_type": "code",
   "execution_count": 12,
   "metadata": {},
   "outputs": [],
   "source": [
    "#define Training set and testing set by 80% 20%\n",
    "\n",
    "from sklearn.model_selection import train_test_split\n",
    "x_train,x_test,y_train,y_test=train_test_split(x,y_before,test_size=0.01,random_state=0)\n",
    "x_t,x_t1,y_t,y_t1=train_test_split(x,y_before,test_size=0.1,random_state=0)"
   ]
  },
  {
   "cell_type": "code",
   "execution_count": 13,
   "metadata": {},
   "outputs": [],
   "source": [
    "# make the data frame an np matrix\n",
    "\n",
    "X_train=x_train.iloc[:,:].values\n",
    "X_test=x_test.iloc[:,:].values\n",
    "Y_train=y_train\n",
    "Y_test=y_test"
   ]
  },
  {
   "cell_type": "code",
   "execution_count": 14,
   "metadata": {},
   "outputs": [],
   "source": [
    "def models(X_train,Y_train):\n",
    "    \n",
    "    #Use Logistic Regression\n",
    "    from sklearn.linear_model import LogisticRegression\n",
    "    log = LogisticRegression(random_state = 0)\n",
    "    log.fit(X_train,Y_train)\n",
    "    \n",
    "#     #Use Kneighbors\n",
    "#     #from sklearn.neighbors import KNeighborsClassifier\n",
    "#     #knn=KNeighborsClassifier(n_neighbors = 5,metric=\"minkowski\",p=2)\n",
    "#     #knn.fit(X_train,Y_train)\n",
    "    \n",
    "#     #Use SVC (linear kernel)\n",
    "    from sklearn.svm import SVC\n",
    "    svc_lin=SVC(kernel=\"linear\",random_state=0)\n",
    "    svc_lin.fit(X_train,Y_train)\n",
    "    \n",
    "#     #Use SVC (RBF kernel)\n",
    "    from sklearn.svm import SVC\n",
    "    svc_rbf=SVC(kernel=\"rbf\",random_state=0)\n",
    "    svc_rbf.fit(X_train,Y_train)\n",
    "    \n",
    "#     #Use GaussianNB\n",
    "#     from sklearn.naive_bayes import GaussianNB\n",
    "#     gauss = GaussianNB()\n",
    "#     gauss.fit(X_train,Y_train)\n",
    "    \n",
    "#     #Use Decision Tree\n",
    "    from sklearn.tree import DecisionTreeClassifier\n",
    "    tree = DecisionTreeClassifier( criterion=\"entropy\" ,random_state=0)\n",
    "    tree.fit(X_train,Y_train)\n",
    "    \n",
    "    #Use Random Forest Classifier\n",
    "    from sklearn.ensemble import RandomForestClassifier\n",
    "    forest = RandomForestClassifier(n_estimators=100,criterion=\"entropy\",random_state=0)\n",
    "    forest.fit(X_train,Y_train)\n",
    "    \n",
    "    #Use XGBClassifier\n",
    "    import xgboost as xgb\n",
    "    modelx=xgb.XGBClassifier(random_state=1,learning_rate=0.01)\n",
    "    modelx.fit(X_train,Y_train)\n",
    "    \n",
    "    \n",
    "    #print the accuracy of each model\n",
    "    print(\"[0] Logistic Regression Training Accuracy: \",log.score(X_train,Y_train))\n",
    "#     print(\"[1] K Neighbors Regression Training Accuracy: \",knn.score(X_train,Y_train))\n",
    "    print(\"[2] SVC Linear Training Accuracy: \",svc_lin.score(X_train,Y_train))\n",
    "    print(\"[3] SVC RBF Training Accuracy: \",svc_rbf.score(X_train,Y_train))\n",
    "    #print(\"[4] Gaussian NB Training Accuracy: \",gauss.score(X_train,Y_train))\n",
    "    print(\"[5] Decision Tree Training Accuracy: \",tree.score(X_train,Y_train))\n",
    "    print(\"[6] Random Forest Training Accuracy: \",forest.score(X_train,Y_train))\n",
    "    print(\"[7] XGBClassifier Training Accuracy: \",modelx.score(X_train,Y_train))\n",
    "    \n",
    "#     return forest,svc_rbf,gauss,tree\n",
    "    return  log, svc_lin, svc_rbf, gauss, tree, forest,modelx"
   ]
  },
  {
   "cell_type": "code",
   "execution_count": 41,
   "metadata": {},
   "outputs": [],
   "source": [
    "#nural network\n",
    "from sklearn.neural_network import MLPClassifier\n",
    "\n",
    "CNN = MLPClassifier(hidden_layer_sizes=(500,300,200,100,50), max_iter=500, activation='relu',solver='lbfgs', verbose=10,  random_state=0,tol=0.000000001)\n"
   ]
  },
  {
   "cell_type": "code",
   "execution_count": 42,
   "metadata": {
    "collapsed": true
   },
   "outputs": [
    {
     "data": {
      "text/plain": [
       "MLPClassifier(activation='relu', alpha=0.0001, batch_size='auto', beta_1=0.9,\n",
       "              beta_2=0.999, early_stopping=False, epsilon=1e-08,\n",
       "              hidden_layer_sizes=(500, 300, 200, 100, 50),\n",
       "              learning_rate='constant', learning_rate_init=0.001, max_iter=500,\n",
       "              momentum=0.9, n_iter_no_change=10, nesterovs_momentum=True,\n",
       "              power_t=0.5, random_state=0, shuffle=True, solver='lbfgs',\n",
       "              tol=1e-09, validation_fraction=0.1, verbose=10, warm_start=False)"
      ]
     },
     "execution_count": 42,
     "metadata": {},
     "output_type": "execute_result"
    }
   ],
   "source": [
    "CNN.fit(x_train, y_train)"
   ]
  },
  {
   "cell_type": "code",
   "execution_count": 39,
   "metadata": {},
   "outputs": [
    {
     "name": "stdout",
     "output_type": "stream",
     "text": [
      "0.9857142857142858\n"
     ]
    }
   ],
   "source": [
    "print(CNN.score(X_test,Y_test))\n",
    "pred=CNN.predict(test)"
   ]
  },
  {
   "cell_type": "code",
   "execution_count": null,
   "metadata": {},
   "outputs": [
    {
     "name": "stderr",
     "output_type": "stream",
     "text": [
      "C:\\Users\\Imesh Ekanayake\\.conda\\envs\\Tensorflow\\lib\\site-packages\\sklearn\\linear_model\\logistic.py:432: FutureWarning: Default solver will be changed to 'lbfgs' in 0.22. Specify a solver to silence this warning.\n",
      "  FutureWarning)\n",
      "C:\\Users\\Imesh Ekanayake\\.conda\\envs\\Tensorflow\\lib\\site-packages\\sklearn\\linear_model\\logistic.py:469: FutureWarning: Default multi_class will be changed to 'auto' in 0.22. Specify the multi_class option to silence this warning.\n",
      "  \"this warning.\", FutureWarning)\n",
      "C:\\Users\\Imesh Ekanayake\\.conda\\envs\\Tensorflow\\lib\\site-packages\\sklearn\\svm\\base.py:929: ConvergenceWarning: Liblinear failed to converge, increase the number of iterations.\n",
      "  \"the number of iterations.\", ConvergenceWarning)\n"
     ]
    }
   ],
   "source": [
    "Models=models(x_train,y_train)"
   ]
  },
  {
   "cell_type": "code",
   "execution_count": null,
   "metadata": {},
   "outputs": [],
   "source": [
    "for i in range (len(Models)):\n",
    "    print(Models[i].score(X_test,Y_test))"
   ]
  },
  {
   "cell_type": "code",
   "execution_count": 10,
   "metadata": {},
   "outputs": [],
   "source": [
    "pred=Models[3].predict(test)"
   ]
  },
  {
   "cell_type": "code",
   "execution_count": 40,
   "metadata": {},
   "outputs": [],
   "source": [
    "np.savetxt(\"output.csv\", pred, delimiter=\",\")"
   ]
  }
 ],
 "metadata": {
  "kernelspec": {
   "display_name": "Python 3",
   "language": "python",
   "name": "python3"
  },
  "language_info": {
   "codemirror_mode": {
    "name": "ipython",
    "version": 3
   },
   "file_extension": ".py",
   "mimetype": "text/x-python",
   "name": "python",
   "nbconvert_exporter": "python",
   "pygments_lexer": "ipython3",
   "version": "3.7.4"
  }
 },
 "nbformat": 4,
 "nbformat_minor": 2
}
